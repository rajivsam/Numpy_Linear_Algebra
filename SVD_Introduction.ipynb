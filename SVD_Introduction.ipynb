{
 "metadata": {
  "name": ""
 },
 "nbformat": 3,
 "nbformat_minor": 0,
 "worksheets": [
  {
   "cells": [
    {
     "cell_type": "code",
     "collapsed": false,
     "input": [
      "import numpy as np\n",
      "from numpy import linalg as LA\n",
      "from sklearn.preprocessing import normalize"
     ],
     "language": "python",
     "metadata": {},
     "outputs": [],
     "prompt_number": 11
    },
    {
     "cell_type": "markdown",
     "metadata": {},
     "source": [
      "## SVD Demo\n",
      "We will create a 30 x 30 matrix by sampling a normal distribution. We will then use $X.X^T$ to illustrate SVD. This matrix\n",
      "is symetric so the SVD factorization (U,D,V) will yield two orthogonal matrices (U and V) and a diagonal matrix (D)."
     ]
    },
    {
     "cell_type": "code",
     "collapsed": false,
     "input": [
      "X = np.random.normal(10, 5, 900) # draw 900 samples from a mean 30 and sd 5 normal distribution, create a 90x10 matrix\n",
      "X = X.reshape((90,10))\n",
      "xc = np.corrcoef(X.T) \n",
      "X = normalize(X.T)\n",
      "# we need to correlate variables and not instances\n"
     ],
     "language": "python",
     "metadata": {},
     "outputs": [],
     "prompt_number": 17
    },
    {
     "cell_type": "code",
     "collapsed": false,
     "input": [
      "X.dot(X.T).shape"
     ],
     "language": "python",
     "metadata": {},
     "outputs": [
      {
       "metadata": {},
       "output_type": "pyout",
       "prompt_number": 18,
       "text": [
        "(10, 10)"
       ]
      }
     ],
     "prompt_number": 18
    },
    {
     "cell_type": "code",
     "collapsed": false,
     "input": [
      " U, D, V = np.linalg.svd(X, full_matrices=True)"
     ],
     "language": "python",
     "metadata": {},
     "outputs": [],
     "prompt_number": 19
    },
    {
     "cell_type": "markdown",
     "metadata": {},
     "source": [
      "## Verify some properties of the factorization\n",
      "Please see http://www.cs.cmu.edu/~jingx/docs/linearalgebra.pdf for an excellent summary of linear algebra as it pertains to machine learning. Here are some quick properties that we can verify."
     ]
    },
    {
     "cell_type": "markdown",
     "metadata": {},
     "source": [
      "### The eigen values of A is what we see as the diagonal matrix we obtain from SVD factorization"
     ]
    },
    {
     "cell_type": "code",
     "collapsed": false,
     "input": [
      "D"
     ],
     "language": "python",
     "metadata": {},
     "outputs": [
      {
       "metadata": {},
       "output_type": "pyout",
       "prompt_number": 20,
       "text": [
        "array([ 2.88007666,  0.5583528 ,  0.51640042,  0.48025502,  0.4364672 ,\n",
        "        0.43372168,  0.40971794,  0.37239781,  0.34367436,  0.30464271])"
       ]
      }
     ],
     "prompt_number": 20
    },
    {
     "cell_type": "markdown",
     "metadata": {},
     "source": [
      "## Principal Components from SVD\n",
      "The elements of the matrix V provide the PC's from SVD"
     ]
    },
    {
     "cell_type": "code",
     "collapsed": false,
     "input": [
      "print(U[0])"
     ],
     "language": "python",
     "metadata": {},
     "outputs": [
      {
       "output_type": "stream",
       "stream": "stdout",
       "text": [
        "[-0.31626092  0.11208265 -0.04479533  0.65853686 -0.20277472 -0.2215002\n",
        " -0.37295082 -0.00964989 -0.43571     0.18036221]\n"
       ]
      }
     ],
     "prompt_number": 25
    },
    {
     "cell_type": "markdown",
     "metadata": {},
     "source": [
      "## Principal Components\n",
      "The eigen vectors of the correlation matrix provide the PC's. This should be similar to what "
     ]
    },
    {
     "cell_type": "code",
     "collapsed": false,
     "input": [
      "eigen_vals, eigen_vecs = np.linalg.eig(X.dot(X.T))"
     ],
     "language": "python",
     "metadata": {},
     "outputs": [],
     "prompt_number": 22
    },
    {
     "cell_type": "code",
     "collapsed": false,
     "input": [
      "print(eigen_vecs[0])"
     ],
     "language": "python",
     "metadata": {},
     "outputs": [
      {
       "output_type": "stream",
       "stream": "stdout",
       "text": [
        "[-0.31626092 -0.11208265 -0.04479533 -0.18036221  0.43571     0.65853686\n",
        "  0.00964989 -0.37295082 -0.2215002   0.20277472]\n"
       ]
      }
     ],
     "prompt_number": 26
    },
    {
     "cell_type": "code",
     "collapsed": false,
     "input": [
      "?np.linalg.eig"
     ],
     "language": "python",
     "metadata": {},
     "outputs": [],
     "prompt_number": 24
    },
    {
     "cell_type": "code",
     "collapsed": false,
     "input": [],
     "language": "python",
     "metadata": {},
     "outputs": []
    }
   ],
   "metadata": {}
  }
 ]
}