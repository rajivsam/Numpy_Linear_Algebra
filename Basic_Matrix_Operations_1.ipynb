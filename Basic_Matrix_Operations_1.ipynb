{
 "metadata": {
  "name": ""
 },
 "nbformat": 3,
 "nbformat_minor": 0,
 "worksheets": [
  {
   "cells": [
    {
     "cell_type": "markdown",
     "metadata": {},
     "source": [
      "## Basic Matrix Vector Operations\n",
      "Note: Do not interpret arrays as mathematical vectors or matrices. They are arrays - contiguous blocks of elements. You, the user have the responsiblity of assigning shape and an appropriate representation based on your application"
     ]
    },
    {
     "cell_type": "code",
     "collapsed": false,
     "input": [
      "import numpy as np"
     ],
     "language": "python",
     "metadata": {},
     "outputs": [],
     "prompt_number": 74
    },
    {
     "cell_type": "code",
     "collapsed": false,
     "input": [
      "a = np.array([1,2])\n",
      "a.shape = (2,1)\n",
      "b = np.array([3,4])\n",
      "b.shape = (2,1)"
     ],
     "language": "python",
     "metadata": {},
     "outputs": [],
     "prompt_number": 88
    },
    {
     "cell_type": "markdown",
     "metadata": {},
     "source": [
      "## Dot product"
     ]
    },
    {
     "cell_type": "markdown",
     "metadata": {},
     "source": [
      "generic matrix multiplication "
     ]
    },
    {
     "cell_type": "code",
     "collapsed": false,
     "input": [
      "np.vdot(a,b)"
     ],
     "language": "python",
     "metadata": {},
     "outputs": [
      {
       "metadata": {},
       "output_type": "pyout",
       "prompt_number": 90,
       "text": [
        "11"
       ]
      }
     ],
     "prompt_number": 90
    },
    {
     "cell_type": "code",
     "collapsed": false,
     "input": [
      "np.vdot(a,b).shape"
     ],
     "language": "python",
     "metadata": {},
     "outputs": [
      {
       "metadata": {},
       "output_type": "pyout",
       "prompt_number": 91,
       "text": [
        "()"
       ]
      }
     ],
     "prompt_number": 91
    },
    {
     "cell_type": "markdown",
     "metadata": {},
     "source": [
      "## Inner Product\n",
      "Note: Numpy automatically transposes the second argument, so we need to account for this implementation. This implies we define a and b as row vectors, so inner product is $A.B^T$"
     ]
    },
    {
     "cell_type": "code",
     "collapsed": false,
     "input": [
      "a = a.reshape((1,2))\n",
      "b = b.reshape((1,2))"
     ],
     "language": "python",
     "metadata": {},
     "outputs": [],
     "prompt_number": 95
    },
    {
     "cell_type": "code",
     "collapsed": false,
     "input": [
      "np.inner(b,a)"
     ],
     "language": "python",
     "metadata": {},
     "outputs": [
      {
       "metadata": {},
       "output_type": "pyout",
       "prompt_number": 96,
       "text": [
        "array([[11]])"
       ]
      }
     ],
     "prompt_number": 96
    },
    {
     "cell_type": "code",
     "collapsed": false,
     "input": [
      "np.dot(a, np.transpose(b))"
     ],
     "language": "python",
     "metadata": {},
     "outputs": [
      {
       "metadata": {},
       "output_type": "pyout",
       "prompt_number": 98,
       "text": [
        "array([[11]])"
       ]
      }
     ],
     "prompt_number": 98
    },
    {
     "cell_type": "markdown",
     "metadata": {},
     "source": [
      "## Outer product\n",
      "Similar note of caution as with inner product. Outer product is $A^T.B$"
     ]
    },
    {
     "cell_type": "code",
     "collapsed": false,
     "input": [
      "np.outer(a,b)"
     ],
     "language": "python",
     "metadata": {},
     "outputs": [
      {
       "metadata": {},
       "output_type": "pyout",
       "prompt_number": 85,
       "text": [
        "array([[3, 4],\n",
        "       [6, 8]])"
       ]
      }
     ],
     "prompt_number": 85
    },
    {
     "cell_type": "code",
     "collapsed": false,
     "input": [
      "np.dot(np.transpose(a), b)"
     ],
     "language": "python",
     "metadata": {},
     "outputs": [
      {
       "metadata": {},
       "output_type": "pyout",
       "prompt_number": 99,
       "text": [
        "array([[3, 4],\n",
        "       [6, 8]])"
       ]
      }
     ],
     "prompt_number": 99
    },
    {
     "cell_type": "markdown",
     "metadata": {},
     "source": [
      "##Kronecker Product - Generalization of Outer Product to Matrices\n",
      "dim(A$\\otimes$B) = dim(A) $\\times$ dim(B)\n",
      "in the example below, A and B are each (2,2) so kron(A,B) is (4,4)"
     ]
    },
    {
     "cell_type": "code",
     "collapsed": false,
     "input": [
      "a = np.array([[1,2],[3,4]])\n",
      "b = np.array([[5,6],[7,8]])"
     ],
     "language": "python",
     "metadata": {},
     "outputs": [],
     "prompt_number": 102
    },
    {
     "cell_type": "code",
     "collapsed": false,
     "input": [
      "np.kron(a,b)"
     ],
     "language": "python",
     "metadata": {},
     "outputs": [
      {
       "metadata": {},
       "output_type": "pyout",
       "prompt_number": 104,
       "text": [
        "array([[ 5,  6, 10, 12],\n",
        "       [ 7,  8, 14, 16],\n",
        "       [15, 18, 20, 24],\n",
        "       [21, 24, 28, 32]])"
       ]
      }
     ],
     "prompt_number": 104
    },
    {
     "cell_type": "code",
     "collapsed": false,
     "input": [
      "np.matmul(a, np.transpose(b))"
     ],
     "language": "python",
     "metadata": {},
     "outputs": [
      {
       "metadata": {},
       "output_type": "pyout",
       "prompt_number": 106,
       "text": [
        "array([[17, 23],\n",
        "       [39, 53]])"
       ]
      }
     ],
     "prompt_number": 106
    },
    {
     "cell_type": "code",
     "collapsed": false,
     "input": [],
     "language": "python",
     "metadata": {},
     "outputs": []
    }
   ],
   "metadata": {}
  }
 ]
}