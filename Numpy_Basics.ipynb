{
 "metadata": {
  "name": ""
 },
 "nbformat": 3,
 "nbformat_minor": 0,
 "worksheets": [
  {
   "cells": [
    {
     "cell_type": "markdown",
     "metadata": {},
     "source": [
      "#The Multidimensional Array\n",
      "The workhorse of Numpy is the multidimensional array. For users familiar with multi-dimensional arrays from other programming languages will be able to relate to similarities. We will warm up by creating some numpy arrays and perform some routine operations on them. The multidimensional numpy array goes by the name **ndarray**. This object encapsulates many useful properties of arrays like its dimension, data type etc. ."
     ]
    },
    {
     "cell_type": "code",
     "collapsed": false,
     "input": [
      "# Step 0\n",
      "import numpy as np"
     ],
     "language": "python",
     "metadata": {},
     "outputs": [],
     "prompt_number": 1
    },
    {
     "cell_type": "markdown",
     "metadata": {},
     "source": [
      "## Array Creation\n",
      "There are many ways to create arrays. We will look at common ways of creating arrays. An array is specified by the number of axes and the extent of these axes. This is specified by the arrays shape. A common way to create arrays is specify a shape and prefill it with some value like zeros. Here is an example"
     ]
    },
    {
     "cell_type": "code",
     "collapsed": false,
     "input": [
      "# create an array of 2 rows and 3 columns to hold integers and prefill them with zeros\n",
      "an_array = np.zeros((2,3), dtype = np.int32)"
     ],
     "language": "python",
     "metadata": {},
     "outputs": [],
     "prompt_number": 4
    },
    {
     "cell_type": "code",
     "collapsed": false,
     "input": [
      "an_array"
     ],
     "language": "python",
     "metadata": {},
     "outputs": [
      {
       "metadata": {},
       "output_type": "pyout",
       "prompt_number": 5,
       "text": [
        "array([[0, 0, 0],\n",
        "       [0, 0, 0]], dtype=int32)"
       ]
      }
     ],
     "prompt_number": 5
    },
    {
     "cell_type": "markdown",
     "metadata": {},
     "source": [
      "###Note:\n",
      "Please look at https://docs.scipy.org/doc/numpy-1.13.0/user/quickstart.html for an overview of the properties of the numpy array, for example: *size, ndim, rank* etc. . Also look at other ways of array creation with prefilling - for example to prefill an array with ones or another value of your choice."
     ]
    },
    {
     "cell_type": "markdown",
     "metadata": {},
     "source": [
      "## Reshaping\n",
      "Once an array has been created, it can be reshaped to any desired shape. Obviously such a transformation must make sense - you cannot reshape to a size bigger than the originally created array for example. Here we can reshape the created array to (1,6) for example"
     ]
    },
    {
     "cell_type": "code",
     "collapsed": false,
     "input": [
      "np.reshape(an_array, (1,6))"
     ],
     "language": "python",
     "metadata": {},
     "outputs": [
      {
       "metadata": {},
       "output_type": "pyout",
       "prompt_number": 6,
       "text": [
        "array([[0, 0, 0, 0, 0, 0]], dtype=int32)"
       ]
      }
     ],
     "prompt_number": 6
    },
    {
     "cell_type": "markdown",
     "metadata": {},
     "source": [
      "## Creating Values Over Intervals\n",
      "Frequently we want to create evenly spaced values over intervals. Here we show one method to do this - *linspace* \n"
     ]
    },
    {
     "cell_type": "code",
     "collapsed": false,
     "input": [
      "# create an array over an interval specified by start point, end point an number of points needed\n",
      "int_array = np.linspace(0,10,10, dtype = np.int)"
     ],
     "language": "python",
     "metadata": {},
     "outputs": [],
     "prompt_number": 11
    },
    {
     "cell_type": "code",
     "collapsed": false,
     "input": [
      "int_array"
     ],
     "language": "python",
     "metadata": {},
     "outputs": [
      {
       "metadata": {},
       "output_type": "pyout",
       "prompt_number": 12,
       "text": [
        "array([ 0,  1,  2,  3,  4,  5,  6,  7,  8, 10])"
       ]
      }
     ],
     "prompt_number": 12
    },
    {
     "cell_type": "markdown",
     "metadata": {},
     "source": [
      "Note: Look at https://docs.scipy.org/doc/numpy-1.13.0/reference/generated/numpy.arange.html#numpy.arange for some other ways to arrange values over an interval or a grid"
     ]
    },
    {
     "cell_type": "code",
     "collapsed": false,
     "input": [],
     "language": "python",
     "metadata": {},
     "outputs": []
    }
   ],
   "metadata": {}
  }
 ]
}