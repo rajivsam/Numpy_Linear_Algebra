{
 "metadata": {
  "name": ""
 },
 "nbformat": 3,
 "nbformat_minor": 0,
 "worksheets": [
  {
   "cells": [
    {
     "cell_type": "code",
     "collapsed": false,
     "input": [
      "import autograd.numpy as np\n",
      "from autograd import grad"
     ],
     "language": "python",
     "metadata": {},
     "outputs": [],
     "prompt_number": 1
    },
    {
     "cell_type": "markdown",
     "metadata": {},
     "source": [
      "## Generate some linear 2 dimensional input data with some small noise\n",
      "$Y = W.X + \\mathcal{N}(0, 0.025)$ "
     ]
    },
    {
     "cell_type": "code",
     "collapsed": false,
     "input": [
      "x1 = np.linspace(0,1, 20)\n",
      "x2 = np.linspace(0,1, 20)\n",
      "y = 10*x1 + 20*x2 + np.random.normal(0, 0.025, x1.shape[0])\n",
      "inputs = np.column_stack((x1,x2))"
     ],
     "language": "python",
     "metadata": {},
     "outputs": [],
     "prompt_number": 21
    },
    {
     "cell_type": "code",
     "collapsed": false,
     "input": [
      "\n",
      "def linear_predictions(weights, inputs):\n",
      "    # Outputs linear regresssion model\n",
      "    return np.dot(inputs, weights)"
     ],
     "language": "python",
     "metadata": {},
     "outputs": [],
     "prompt_number": 22
    },
    {
     "cell_type": "markdown",
     "metadata": {},
     "source": [
      "## Define the Square Error Losss\n",
      "$J = \\frac{1}{2} \\sum_{i=1}^{i=n} \\left(y_i - \\hat{y}_i(x)\\right)^2 $"
     ]
    },
    {
     "cell_type": "code",
     "collapsed": false,
     "input": [
      "def training_loss(weights):\n",
      "    # Compute mean square loss\n",
      "    preds = linear_predictions(weights, inputs)\n",
      "    res = y - preds\n",
      "    sq_res = res * res\n",
      "    J = 0.5 * np.sum(sq_res)\n",
      "    return J"
     ],
     "language": "python",
     "metadata": {},
     "outputs": [],
     "prompt_number": 23
    },
    {
     "cell_type": "markdown",
     "metadata": {},
     "source": [
      "## Set up the Gradient Calculation"
     ]
    },
    {
     "cell_type": "code",
     "collapsed": false,
     "input": [
      "\n",
      "# Define a function that returns gradients of training loss using autograd.\n",
      "training_gradient_fun = grad(training_loss)\n"
     ],
     "language": "python",
     "metadata": {},
     "outputs": [],
     "prompt_number": 24
    },
    {
     "cell_type": "markdown",
     "metadata": {},
     "source": [
      "## Run Gradient Descent\n",
      "  $w(t+1) = w(t) -\\alpha *  \\bigtriangledown\\left(loss\\right) $ , here $\\alpha$ is the learning rate"
     ]
    },
    {
     "cell_type": "code",
     "collapsed": false,
     "input": [
      "# Optimize weights using gradient descent.\n",
      "weights = np.array([0.2, 0.1])\n",
      "print \"Initial loss:\", training_loss(weights)\n",
      "for i in xrange(500):\n",
      "    weights -= training_gradient_fun(weights) * 0.01\n",
      "print  \"Trained loss:\", training_loss(weights)"
     ],
     "language": "python",
     "metadata": {},
     "outputs": [
      {
       "output_type": "stream",
       "stream": "stdout",
       "text": [
        "Initial loss: 3017.35156607\n",
        "Trained loss:"
       ]
      },
      {
       "output_type": "stream",
       "stream": "stdout",
       "text": [
        " 0.00608652214394\n"
       ]
      }
     ],
     "prompt_number": 25
    },
    {
     "cell_type": "code",
     "collapsed": false,
     "input": [
      "pred_output = linear_predictions(weights, inputs)"
     ],
     "language": "python",
     "metadata": {},
     "outputs": [],
     "prompt_number": 26
    },
    {
     "cell_type": "markdown",
     "metadata": {},
     "source": [
      "## Plot the Results"
     ]
    },
    {
     "cell_type": "code",
     "collapsed": false,
     "input": [
      "%matplotlib inline\n",
      "import matplotlib.pyplot as plt\n",
      "font = {'family' : 'sans-serif',\n",
      "        'weight' : 'bold',\n",
      "        'size'   : 14}\n",
      "\n",
      "plt.rc('font', **font)"
     ],
     "language": "python",
     "metadata": {},
     "outputs": [],
     "prompt_number": 44
    },
    {
     "cell_type": "code",
     "collapsed": false,
     "input": [
      "plt.scatter(y, pred_output, color = \"red\")\n",
      "plt.xlabel(\"Y\")\n",
      "plt.ylabel(r'$\\hat{Y}$')\n",
      "plt.title(r'$Y\\ versus\\ \\hat{Y}$')"
     ],
     "language": "python",
     "metadata": {},
     "outputs": [
      {
       "metadata": {},
       "output_type": "pyout",
       "prompt_number": 45,
       "text": [
        "<matplotlib.text.Text at 0x7f26c9294590>"
       ]
      },
      {
       "metadata": {},
       "output_type": "display_data",
       "png": "[encoded data removed]",
       "text": [
        "<matplotlib.figure.Figure at 0x7f26c930c7d0>"
       ]
      }
     ],
     "prompt_number": 45
    },
    {
     "cell_type": "code",
     "collapsed": false,
     "input": [],
     "language": "python",
     "metadata": {},
     "outputs": []
    }
   ],
   "metadata": {}
  }
 ]
}