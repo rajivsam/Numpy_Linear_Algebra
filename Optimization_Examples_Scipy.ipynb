{
 "metadata": {
  "name": ""
 },
 "nbformat": 3,
 "nbformat_minor": 0,
 "worksheets": [
  {
   "cells": [
    {
     "cell_type": "markdown",
     "metadata": {},
     "source": [
      "Material taken from: http://www.scipy-lectures.org/advanced/mathematical_optimization/index.html"
     ]
    },
    {
     "cell_type": "markdown",
     "metadata": {},
     "source": [
      "#One Dimensional Optimization"
     ]
    },
    {
     "cell_type": "code",
     "collapsed": false,
     "input": [
      "import numpy as np\n",
      "x1 = np.asmatrix(np.linspace(0, 1, 20))\n",
      "w = 10\n",
      "y = w*x1"
     ],
     "language": "python",
     "metadata": {},
     "outputs": [],
     "prompt_number": 14
    },
    {
     "cell_type": "code",
     "collapsed": false,
     "input": [
      "def loss(wp):\n",
      "    res = y - wp*x1\n",
      "    se = np.power(res, 2)\n",
      "    sse = np.sum(se)\n",
      "    return sse"
     ],
     "language": "python",
     "metadata": {},
     "outputs": [],
     "prompt_number": 15
    },
    {
     "cell_type": "code",
     "collapsed": false,
     "input": [
      "from scipy import optimize\n",
      "p0 = 0\n",
      "optimize.minimize(loss, p0, method='CG')"
     ],
     "language": "python",
     "metadata": {},
     "outputs": [
      {
       "metadata": {},
       "output_type": "pyout",
       "prompt_number": 17,
       "text": [
        "     fun: 1.7483977108937527e-11\n",
        "     jac: array([  2.19767998e-05])\n",
        " message: 'Desired error not necessarily achieved due to precision loss.'\n",
        "    nfev: 24\n",
        "     nit: 1\n",
        "    njev: 4\n",
        "  status: 2\n",
        " success: False\n",
        "       x: array([ 10.0000016])"
       ]
      }
     ],
     "prompt_number": 17
    },
    {
     "cell_type": "markdown",
     "metadata": {},
     "source": [
      "# Multivariate Optimization"
     ]
    },
    {
     "cell_type": "code",
     "collapsed": false,
     "input": [
      "import numpy as np\n",
      "from sklearn.preprocessing import normalize\n",
      "x1 = np.asmatrix(np.linspace(0, 100, 20))\n",
      "#x1 = np.asmatrix(2*np.linspace(50, 100, 20))\n",
      "x2 = np.asmatrix(np.linspace(50, 100, 20))\n",
      "x1 = normalize(x1)\n",
      "x2 = normalize(x2)\n",
      "X = np.concatenate([x1.T,x2.T], axis = 1)\n",
      "w = np.asmatrix([[10], [20]])\n",
      "noise = np.random.normal(0, 0.25, 20)\n",
      "noise = np.asmatrix(noise)\n",
      "Y = np.matmul(X,w) + noise.T"
     ],
     "language": "python",
     "metadata": {},
     "outputs": [],
     "prompt_number": 110
    },
    {
     "cell_type": "code",
     "collapsed": false,
     "input": [
      "def loss(wp):\n",
      "    wp = np.asmatrix([[wp[0]], [wp[1]]])\n",
      "    Yhat = np.matmul(X,wp)\n",
      "    res = Y - Yhat\n",
      "    se = np.power(res, 2)\n",
      "    sse = np.sum(se)\n",
      "    return sse"
     ],
     "language": "python",
     "metadata": {},
     "outputs": [],
     "prompt_number": 111
    },
    {
     "cell_type": "code",
     "collapsed": false,
     "input": [
      "from scipy import optimize\n",
      "p0 = [0,0]\n",
      "optimize.minimize(loss, p0, method='BFGS')"
     ],
     "language": "python",
     "metadata": {},
     "outputs": [
      {
       "metadata": {},
       "output_type": "pyout",
       "prompt_number": 113,
       "text": [
        "      fun: 1.034245970900515\n",
        " hess_inv: array([[ 4.34908948, -4.09163372],\n",
        "       [-4.09163372,  4.34944008]])\n",
        "      jac: array([  8.94069672e-08,  -2.98023224e-08])\n",
        "  message: 'Optimization terminated successfully.'\n",
        "     nfev: 40\n",
        "      nit: 8\n",
        "     njev: 10\n",
        "   status: 0\n",
        "  success: True\n",
        "        x: array([  8.2202719 ,  21.77170397])"
       ]
      }
     ],
     "prompt_number": 113
    },
    {
     "cell_type": "code",
     "collapsed": false,
     "input": [],
     "language": "python",
     "metadata": {},
     "outputs": []
    }
   ],
   "metadata": {}
  }
 ]
}