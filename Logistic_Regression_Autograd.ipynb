{
 "metadata": {
  "name": ""
 },
 "nbformat": 3,
 "nbformat_minor": 0,
 "worksheets": [
  {
   "cells": [
    {
     "cell_type": "code",
     "collapsed": false,
     "input": [
      "import autograd.numpy as np\n",
      "from autograd import grad\n"
     ],
     "language": "python",
     "metadata": {},
     "outputs": [],
     "prompt_number": 1
    },
    {
     "cell_type": "code",
     "collapsed": false,
     "input": [
      "\n",
      "def sigmoid(x):\n",
      "    return 0.5*(np.tanh(x) + 1)\n"
     ],
     "language": "python",
     "metadata": {},
     "outputs": [],
     "prompt_number": 2
    },
    {
     "cell_type": "code",
     "collapsed": false,
     "input": [
      "\n",
      "def logistic_predictions(weights, inputs):\n",
      "    # Outputs probability of a label being true according to logistic model.\n",
      "    return sigmoid(np.dot(inputs, weights))\n"
     ],
     "language": "python",
     "metadata": {},
     "outputs": []
    },
    {
     "cell_type": "markdown",
     "metadata": {},
     "source": [
      "## Define the Loss Function"
     ]
    },
    {
     "cell_type": "code",
     "collapsed": false,
     "input": [
      "def training_loss(weights):\n",
      "    # Training loss is the negative log-likelihood of the training labels.\n",
      "    preds = logistic_predictions(weights, inputs)\n",
      "    label_probabilities = preds * targets + (1 - preds) * (1 - targets)\n",
      "    return -np.sum(np.log(label_probabilities))\n"
     ],
     "language": "python",
     "metadata": {},
     "outputs": [],
     "prompt_number": 4
    },
    {
     "cell_type": "markdown",
     "metadata": {},
     "source": [
      "## Setup some toy data"
     ]
    },
    {
     "cell_type": "code",
     "collapsed": false,
     "input": [
      "\n",
      "# Build a toy dataset.\n",
      "inputs = np.array([[0.52, 1.12,  0.77],\n",
      "                   [0.88, -1.08, 0.15],\n",
      "                   [0.52, 0.06, -1.30],\n",
      "                   [0.74, -2.49, 1.39]])\n",
      "targets = np.array([True, True, False, True])"
     ],
     "language": "python",
     "metadata": {},
     "outputs": [],
     "prompt_number": 16
    },
    {
     "cell_type": "markdown",
     "metadata": {},
     "source": [
      "## Set up Automatic Gradient Determination Using autograd"
     ]
    },
    {
     "cell_type": "code",
     "collapsed": false,
     "input": [
      "\n",
      "# Define a function that returns gradients of training loss using autograd.\n",
      "training_gradient_fun = grad(training_loss)\n"
     ],
     "language": "python",
     "metadata": {},
     "outputs": [],
     "prompt_number": 6
    },
    {
     "cell_type": "markdown",
     "metadata": {},
     "source": [
      "## Gradient Descent for Logistic Regression\n",
      "1. Initialize weights\n",
      "2. Update wieghts with the rule:\n",
      "    $w(t+1) = w(t) -\\alpha *  \\bigtriangledown\\left(loss\\right)$"
     ]
    },
    {
     "cell_type": "code",
     "collapsed": false,
     "input": [
      "\n",
      "# Optimize weights using gradient descent.\n",
      "weights = np.array([0.0, 0.0, 0.0])\n",
      "print \"Initial loss:\", training_loss(weights)\n",
      "for i in xrange(500):\n",
      "    weights -= training_gradient_fun(weights) * 0.01\n",
      "\n",
      "print  \"Trained loss:\", training_loss(weights)"
     ],
     "language": "python",
     "metadata": {},
     "outputs": [
      {
       "output_type": "stream",
       "stream": "stdout",
       "text": [
        "Initial loss: 2.77258872224\n",
        "Trained loss:"
       ]
      },
      {
       "output_type": "stream",
       "stream": "stdout",
       "text": [
        " 0.08582082357\n"
       ]
      }
     ],
     "prompt_number": 11
    },
    {
     "cell_type": "markdown",
     "metadata": {},
     "source": [
      "## Predict the Input Data with Calculated Model"
     ]
    },
    {
     "cell_type": "code",
     "collapsed": false,
     "input": [
      "pred_probs = logistic_predictions(weights, inputs)"
     ],
     "language": "python",
     "metadata": {},
     "outputs": [],
     "prompt_number": 14
    },
    {
     "cell_type": "code",
     "collapsed": false,
     "input": [
      "pred_probs"
     ],
     "language": "python",
     "metadata": {},
     "outputs": [
      {
       "metadata": {},
       "output_type": "pyout",
       "prompt_number": 15,
       "text": [
        "array([ 0.97062309,  0.9637558 ,  0.01874623,  0.99983774])"
       ]
      }
     ],
     "prompt_number": 15
    },
    {
     "cell_type": "code",
     "collapsed": false,
     "input": [
      "inputs.shape"
     ],
     "language": "python",
     "metadata": {},
     "outputs": [
      {
       "metadata": {},
       "output_type": "pyout",
       "prompt_number": 17,
       "text": [
        "(4, 3)"
       ]
      }
     ],
     "prompt_number": 17
    },
    {
     "cell_type": "code",
     "collapsed": false,
     "input": [],
     "language": "python",
     "metadata": {},
     "outputs": []
    }
   ],
   "metadata": {}
  }
 ]
}